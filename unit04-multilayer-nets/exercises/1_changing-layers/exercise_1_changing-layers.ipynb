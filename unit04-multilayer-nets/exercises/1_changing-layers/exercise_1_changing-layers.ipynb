{
 "cells": [
  {
   "cell_type": "markdown",
   "id": "d71bce70-9dc3-448b-9f9a-8896e83b6d09",
   "metadata": {},
   "source": [
    "# Implementing a Multilayer Perceptron (MNIST)"
   ]
  },
  {
   "cell_type": "markdown",
   "id": "e5b48fc7-4f46-4d5a-8558-cd06892aaa27",
   "metadata": {},
   "source": [
    "## 1) Installing Libraries"
   ]
  },
  {
   "cell_type": "code",
   "id": "be1f5a9a-b3ee-424b-ab02-4371f49bd786",
   "metadata": {
    "ExecuteTime": {
     "end_time": "2025-02-19T05:48:41.912252Z",
     "start_time": "2025-02-19T05:48:41.906074Z"
    }
   },
   "source": [
    "# !conda install numpy pandas matplotlib --yes"
   ],
   "outputs": [],
   "execution_count": 6
  },
  {
   "cell_type": "code",
   "id": "1ea7b3b8-9092-4b37-8b7f-57362be611ad",
   "metadata": {
    "ExecuteTime": {
     "end_time": "2025-02-19T05:48:41.934765Z",
     "start_time": "2025-02-19T05:48:41.931137Z"
    }
   },
   "source": [
    "# !pip install torch torchvision torchaudio"
   ],
   "outputs": [],
   "execution_count": 7
  },
  {
   "cell_type": "code",
   "id": "79dd2077-ba5c-4ab5-95fc-6ee4d8a9f811",
   "metadata": {
    "ExecuteTime": {
     "end_time": "2025-02-19T05:48:41.944648Z",
     "start_time": "2025-02-19T05:48:41.940838Z"
    }
   },
   "source": [
    "# !conda install watermark"
   ],
   "outputs": [],
   "execution_count": 8
  },
  {
   "cell_type": "code",
   "id": "bc4fa295-5c62-4888-bcf8-d07d6a7afc47",
   "metadata": {
    "ExecuteTime": {
     "end_time": "2025-02-19T05:48:41.971592Z",
     "start_time": "2025-02-19T05:48:41.954694Z"
    }
   },
   "source": [
    "%load_ext watermark\n",
    "%watermark -v -p numpy,pandas,matplotlib,torch"
   ],
   "outputs": [
    {
     "name": "stdout",
     "output_type": "stream",
     "text": [
      "The watermark extension is already loaded. To reload it, use:\n",
      "  %reload_ext watermark\n",
      "Python implementation: CPython\n",
      "Python version       : 3.11.9\n",
      "IPython version      : 8.31.0\n",
      "\n",
      "numpy     : 2.2.2\n",
      "pandas    : 2.2.3\n",
      "matplotlib: 3.10.0\n",
      "torch     : 2.6.0\n",
      "\n"
     ]
    }
   ],
   "execution_count": 9
  },
  {
   "cell_type": "markdown",
   "id": "b9549676-2fa5-41a7-bbb9-ce03f5797c34",
   "metadata": {},
   "source": [
    "## 2) Loading the dataset"
   ]
  },
  {
   "cell_type": "markdown",
   "id": "e002ad95-a1f7-4c33-826a-4a45944f2687",
   "metadata": {},
   "source": [
    "- MNIST website: http://yann.lecun.com/exdb/mnist/"
   ]
  },
  {
   "cell_type": "code",
   "id": "f609024c-3eae-4ad5-8cb8-b95b403b7606",
   "metadata": {
    "ExecuteTime": {
     "end_time": "2025-02-19T05:48:46.207421Z",
     "start_time": "2025-02-19T05:48:41.982159Z"
    }
   },
   "source": [
    "from torch.utils.data import DataLoader\n",
    "from torchvision import datasets, transforms\n",
    "\n",
    "train_dataset = datasets.MNIST(\n",
    "    root=\"./mnist\", train=True, transform=transforms.ToTensor(), download=True\n",
    ")\n",
    "\n",
    "test_dataset = datasets.MNIST(\n",
    "    root=\"./mnist\", train=False, transform=transforms.ToTensor()\n",
    ")"
   ],
   "outputs": [
    {
     "name": "stderr",
     "output_type": "stream",
     "text": [
      "100.0%\n",
      "100.0%\n",
      "100.0%\n",
      "100.0%\n"
     ]
    }
   ],
   "execution_count": 10
  },
  {
   "cell_type": "code",
   "id": "6661307a-6220-48d5-b965-4cd36e29e54c",
   "metadata": {
    "ExecuteTime": {
     "end_time": "2025-02-19T05:48:46.249643Z",
     "start_time": "2025-02-19T05:48:46.240579Z"
    }
   },
   "source": [
    "len(train_dataset)"
   ],
   "outputs": [
    {
     "data": {
      "text/plain": [
       "60000"
      ]
     },
     "execution_count": 11,
     "metadata": {},
     "output_type": "execute_result"
    }
   ],
   "execution_count": 11
  },
  {
   "cell_type": "code",
   "id": "78adc94e-5418-4aac-9a82-9a9cbf8fc688",
   "metadata": {
    "ExecuteTime": {
     "end_time": "2025-02-19T05:48:46.266231Z",
     "start_time": "2025-02-19T05:48:46.258751Z"
    }
   },
   "source": [
    "len(test_dataset)"
   ],
   "outputs": [
    {
     "data": {
      "text/plain": [
       "10000"
      ]
     },
     "execution_count": 12,
     "metadata": {},
     "output_type": "execute_result"
    }
   ],
   "execution_count": 12
  },
  {
   "cell_type": "markdown",
   "id": "765adcf0-9147-434b-917a-f6d736a7117e",
   "metadata": {},
   "source": [
    "### Create a validation set"
   ]
  },
  {
   "cell_type": "code",
   "id": "b39a42a2-cd46-46cf-ba93-d3f2f232f29c",
   "metadata": {
    "ExecuteTime": {
     "end_time": "2025-02-19T05:48:46.293437Z",
     "start_time": "2025-02-19T05:48:46.278740Z"
    }
   },
   "source": [
    "import torch\n",
    "from torch.utils.data.dataset import random_split\n",
    "\n",
    "torch.manual_seed(1)\n",
    "train_dataset, val_dataset = random_split(train_dataset, lengths=[55000, 5000])"
   ],
   "outputs": [],
   "execution_count": 13
  },
  {
   "cell_type": "code",
   "id": "b30e4a70-55b3-4fb0-b28d-b0fddd193fae",
   "metadata": {
    "ExecuteTime": {
     "end_time": "2025-02-19T05:48:46.314400Z",
     "start_time": "2025-02-19T05:48:46.306294Z"
    }
   },
   "source": [
    "train_loader = DataLoader(\n",
    "    dataset=train_dataset,\n",
    "    batch_size=64,\n",
    "    shuffle=True,\n",
    ")\n",
    "\n",
    "val_loader = DataLoader(\n",
    "    dataset=val_dataset,\n",
    "    batch_size=64,\n",
    "    shuffle=False,\n",
    ")\n",
    "\n",
    "test_loader = DataLoader(\n",
    "    dataset=test_dataset,\n",
    "    batch_size=64,\n",
    "    shuffle=False,\n",
    ")"
   ],
   "outputs": [],
   "execution_count": 14
  },
  {
   "cell_type": "markdown",
   "id": "db50db02-3696-4f86-b149-74baabeec6c4",
   "metadata": {},
   "source": [
    "## 3) Implementing the model"
   ]
  },
  {
   "cell_type": "code",
   "id": "971389a7-5424-4141-a3ee-9399eebbbb6a",
   "metadata": {
    "ExecuteTime": {
     "end_time": "2025-02-19T05:48:46.351218Z",
     "start_time": "2025-02-19T05:48:46.342904Z"
    }
   },
   "source": [
    "import torch\n",
    "\n",
    "class PyTorchMLP(torch.nn.Module):\n",
    "    def __init__(self, num_features, num_classes):\n",
    "        super().__init__()\n",
    "\n",
    "        self.all_layers = torch.nn.Sequential(\n",
    "            # 1st hidden layer\n",
    "            torch.nn.Linear(num_features, 50),\n",
    "            torch.nn.ReLU(),\n",
    "            # 2nd hidden layer\n",
    "            torch.nn.Linear(50, 25),\n",
    "            torch.nn.ReLU(),\n",
    "            # output layer\n",
    "            torch.nn.Linear(25, num_classes),\n",
    "        )\n",
    "\n",
    "    def forward(self, x):\n",
    "        x = torch.flatten(x, start_dim=1)\n",
    "        logits = self.all_layers(x)\n",
    "        return logits"
   ],
   "outputs": [],
   "execution_count": 15
  },
  {
   "cell_type": "markdown",
   "id": "46bc16a0-ec59-4c54-a209-0a5e22406287",
   "metadata": {},
   "source": [
    "## 4) The training loop"
   ]
  },
  {
   "cell_type": "code",
   "id": "8de213fc-48b0-4f7c-af9e-8e2da068e351",
   "metadata": {
    "ExecuteTime": {
     "end_time": "2025-02-19T05:48:46.380719Z",
     "start_time": "2025-02-19T05:48:46.374048Z"
    }
   },
   "source": [
    "def compute_accuracy(model, dataloader):\n",
    "\n",
    "    model = model.eval()\n",
    "\n",
    "    correct = 0.0\n",
    "    total_examples = 0\n",
    "\n",
    "    for idx, (features, labels) in enumerate(dataloader):\n",
    "\n",
    "        with torch.no_grad():\n",
    "            logits = model(features)\n",
    "\n",
    "        predictions = torch.argmax(logits, dim=1)\n",
    "\n",
    "        compare = labels == predictions\n",
    "        correct += torch.sum(compare)\n",
    "        total_examples += len(compare)\n",
    "\n",
    "    return correct / total_examples"
   ],
   "outputs": [],
   "execution_count": 16
  },
  {
   "cell_type": "code",
   "id": "3dcaa2b1-4019-4128-9ff5-6a966c3abdf2",
   "metadata": {
    "ExecuteTime": {
     "end_time": "2025-02-19T05:50:53.591950Z",
     "start_time": "2025-02-19T05:48:46.396787Z"
    }
   },
   "source": [
    "import torch.nn.functional as F\n",
    "\n",
    "torch.manual_seed(1)\n",
    "model = PyTorchMLP(num_features=784, num_classes=10)\n",
    "\n",
    "optimizer = torch.optim.SGD(model.parameters(), lr=0.05)\n",
    "\n",
    "num_epochs = 10\n",
    "\n",
    "loss_list = []\n",
    "train_acc_list, val_acc_list = [], []\n",
    "for epoch in range(num_epochs):\n",
    "\n",
    "    model = model.train()\n",
    "    for batch_idx, (features, labels) in enumerate(train_loader):\n",
    "\n",
    "        logits = model(features)\n",
    "\n",
    "        loss = F.cross_entropy(logits, labels)\n",
    "\n",
    "        optimizer.zero_grad()\n",
    "        loss.backward()\n",
    "        optimizer.step()\n",
    "\n",
    "        if not batch_idx % 250:\n",
    "            ### LOGGING\n",
    "            print(\n",
    "                f\"Epoch: {epoch+1:03d}/{num_epochs:03d}\"\n",
    "                f\" | Batch {batch_idx:03d}/{len(train_loader):03d}\"\n",
    "                f\" | Train Loss: {loss:.2f}\"\n",
    "            )\n",
    "        loss_list.append(loss.item())\n",
    "\n",
    "    train_acc = compute_accuracy(model, train_loader)\n",
    "    val_acc = compute_accuracy(model, val_loader)\n",
    "    print(f\"Train Acc {train_acc*100:.2f}% | Val Acc {val_acc*100:.2f}%\")\n",
    "    train_acc_list.append(train_acc)\n",
    "    val_acc_list.append(val_acc)"
   ],
   "outputs": [
    {
     "name": "stdout",
     "output_type": "stream",
     "text": [
      "Epoch: 001/010 | Batch 000/860 | Train Loss: 2.34\n",
      "Epoch: 001/010 | Batch 250/860 | Train Loss: 0.68\n",
      "Epoch: 001/010 | Batch 500/860 | Train Loss: 0.29\n",
      "Epoch: 001/010 | Batch 750/860 | Train Loss: 0.30\n",
      "Train Acc 88.70% | Val Acc 88.22%\n",
      "Epoch: 002/010 | Batch 000/860 | Train Loss: 0.36\n",
      "Epoch: 002/010 | Batch 250/860 | Train Loss: 0.41\n",
      "Epoch: 002/010 | Batch 500/860 | Train Loss: 0.44\n",
      "Epoch: 002/010 | Batch 750/860 | Train Loss: 0.25\n",
      "Train Acc 91.84% | Val Acc 91.12%\n",
      "Epoch: 003/010 | Batch 000/860 | Train Loss: 0.28\n",
      "Epoch: 003/010 | Batch 250/860 | Train Loss: 0.20\n",
      "Epoch: 003/010 | Batch 500/860 | Train Loss: 0.18\n",
      "Epoch: 003/010 | Batch 750/860 | Train Loss: 0.26\n",
      "Train Acc 93.71% | Val Acc 92.86%\n",
      "Epoch: 004/010 | Batch 000/860 | Train Loss: 0.18\n",
      "Epoch: 004/010 | Batch 250/860 | Train Loss: 0.14\n",
      "Epoch: 004/010 | Batch 500/860 | Train Loss: 0.25\n",
      "Epoch: 004/010 | Batch 750/860 | Train Loss: 0.23\n",
      "Train Acc 94.80% | Val Acc 93.54%\n",
      "Epoch: 005/010 | Batch 000/860 | Train Loss: 0.13\n",
      "Epoch: 005/010 | Batch 250/860 | Train Loss: 0.20\n",
      "Epoch: 005/010 | Batch 500/860 | Train Loss: 0.08\n",
      "Epoch: 005/010 | Batch 750/860 | Train Loss: 0.18\n",
      "Train Acc 95.47% | Val Acc 94.36%\n",
      "Epoch: 006/010 | Batch 000/860 | Train Loss: 0.28\n",
      "Epoch: 006/010 | Batch 250/860 | Train Loss: 0.31\n",
      "Epoch: 006/010 | Batch 500/860 | Train Loss: 0.25\n",
      "Epoch: 006/010 | Batch 750/860 | Train Loss: 0.07\n",
      "Train Acc 95.72% | Val Acc 94.66%\n",
      "Epoch: 007/010 | Batch 000/860 | Train Loss: 0.08\n",
      "Epoch: 007/010 | Batch 250/860 | Train Loss: 0.11\n",
      "Epoch: 007/010 | Batch 500/860 | Train Loss: 0.11\n",
      "Epoch: 007/010 | Batch 750/860 | Train Loss: 0.15\n",
      "Train Acc 96.06% | Val Acc 95.16%\n",
      "Epoch: 008/010 | Batch 000/860 | Train Loss: 0.12\n",
      "Epoch: 008/010 | Batch 250/860 | Train Loss: 0.19\n",
      "Epoch: 008/010 | Batch 500/860 | Train Loss: 0.06\n",
      "Epoch: 008/010 | Batch 750/860 | Train Loss: 0.14\n",
      "Train Acc 96.48% | Val Acc 94.98%\n",
      "Epoch: 009/010 | Batch 000/860 | Train Loss: 0.15\n",
      "Epoch: 009/010 | Batch 250/860 | Train Loss: 0.08\n",
      "Epoch: 009/010 | Batch 500/860 | Train Loss: 0.18\n",
      "Epoch: 009/010 | Batch 750/860 | Train Loss: 0.05\n",
      "Train Acc 97.02% | Val Acc 95.46%\n",
      "Epoch: 010/010 | Batch 000/860 | Train Loss: 0.04\n",
      "Epoch: 010/010 | Batch 250/860 | Train Loss: 0.08\n",
      "Epoch: 010/010 | Batch 500/860 | Train Loss: 0.19\n",
      "Epoch: 010/010 | Batch 750/860 | Train Loss: 0.13\n",
      "Train Acc 97.23% | Val Acc 95.64%\n"
     ]
    }
   ],
   "execution_count": 17
  },
  {
   "cell_type": "markdown",
   "id": "bb0d5821-7c8d-46b5-9e7d-02e72cac2acc",
   "metadata": {},
   "source": [
    "## 7) Evaluating the results"
   ]
  },
  {
   "cell_type": "code",
   "id": "27538c8d-61bc-47b0-8289-b6aab4aa16ed",
   "metadata": {
    "ExecuteTime": {
     "end_time": "2025-02-19T05:51:01.482610Z",
     "start_time": "2025-02-19T05:50:53.676483Z"
    }
   },
   "source": [
    "train_acc = compute_accuracy(model, train_loader)\n",
    "val_acc = compute_accuracy(model, val_loader)\n",
    "test_acc = compute_accuracy(model, test_loader)\n",
    "\n",
    "print(f\"Train Acc {train_acc*100:.2f}%\")\n",
    "print(f\"Val Acc {val_acc*100:.2f}%\")\n",
    "print(f\"Test Acc {test_acc*100:.2f}%\")"
   ],
   "outputs": [
    {
     "name": "stdout",
     "output_type": "stream",
     "text": [
      "Train Acc 97.23%\n",
      "Val Acc 95.64%\n",
      "Test Acc 96.51%\n"
     ]
    }
   ],
   "execution_count": 18
  },
  {
   "cell_type": "code",
   "id": "0f1f8499-3191-4f78-b2d4-82daba9b9bc0",
   "metadata": {
    "ExecuteTime": {
     "end_time": "2025-02-19T05:51:02.244347Z",
     "start_time": "2025-02-19T05:51:01.482610Z"
    }
   },
   "source": [
    "from helper_plotting import plot_training_loss\n",
    "\n",
    "plot_training_loss(minibatch_loss_list=loss_list,\n",
    "                   num_epochs=num_epochs,\n",
    "                   iter_per_epoch=len(loss_list)//num_epochs)"
   ],
   "outputs": [
    {
     "data": {
      "text/plain": [
       "<Figure size 640x480 with 2 Axes>"
      ],
      "image/png": "[encoded data removed]"
     },
     "metadata": {},
     "output_type": "display_data"
    }
   ],
   "execution_count": 19
  },
  {
   "cell_type": "code",
   "id": "bf9d4519-b7a2-4382-90d0-a0dce2ee608e",
   "metadata": {
    "ExecuteTime": {
     "end_time": "2025-02-19T05:51:02.401876Z",
     "start_time": "2025-02-19T05:51:02.267701Z"
    }
   },
   "source": [
    "from helper_plotting import plot_accuracy\n",
    "\n",
    "plot_accuracy(train_acc_list=train_acc_list, valid_acc_list=val_acc_list)"
   ],
   "outputs": [
    {
     "data": {
      "text/plain": [
       "<Figure size 640x480 with 1 Axes>"
      ],
      "image/png": "[encoded data removed]"
     },
     "metadata": {},
     "output_type": "display_data"
    }
   ],
   "execution_count": 20
  }
 ],
 "metadata": {
  "kernelspec": {
   "display_name": "Python 3 (ipykernel)",
   "language": "python",
   "name": "python3"
  },
  "language_info": {
   "codemirror_mode": {
    "name": "ipython",
    "version": 3
   },
   "file_extension": ".py",
   "mimetype": "text/x-python",
   "name": "python",
   "nbconvert_exporter": "python",
   "pygments_lexer": "ipython3",
   "version": "3.10.9"
  }
 },
 "nbformat": 4,
 "nbformat_minor": 5
}
